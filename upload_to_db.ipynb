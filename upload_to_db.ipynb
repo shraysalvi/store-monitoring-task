{
 "cells": [
  {
   "cell_type": "code",
   "execution_count": 13,
   "id": "b57250a9-a45b-4ff2-a160-61cf9859e06f",
   "metadata": {},
   "outputs": [],
   "source": [
    "import pandas as pd\n",
    "import sqlite3"
   ]
  },
  {
   "cell_type": "code",
   "execution_count": 14,
   "id": "3258c9f0-cfb6-43c6-9f84-a081954abdc2",
   "metadata": {},
   "outputs": [],
   "source": [
    "input_filepath = 'data/storestatus.csv'\n",
    "database_name = 'db2.sqlite3'"
   ]
  },
  {
   "cell_type": "code",
   "execution_count": 15,
   "id": "2e50bfbd-d089-43b2-8581-bae660bb63c9",
   "metadata": {},
   "outputs": [],
   "source": [
    "df = pd.read_csv(input_filepath)"
   ]
  },
  {
   "cell_type": "code",
   "execution_count": 16,
   "id": "8ce4cff0-7252-4516-99ac-a65654073523",
   "metadata": {},
   "outputs": [],
   "source": [
    "conn = sqlite3.connect(database_name)"
   ]
  },
  {
   "cell_type": "code",
   "execution_count": 17,
   "id": "007da829-2aca-4371-aad2-cf0d6d3a4e63",
   "metadata": {},
   "outputs": [
    {
     "data": {
      "text/plain": [
       "1822080"
      ]
     },
     "execution_count": 17,
     "metadata": {},
     "output_type": "execute_result"
    }
   ],
   "source": [
    "df.to_sql('store_monitor_pollstore', conn, if_exists='append', index=False)\n",
    "conn.close()"
   ]
  },
  {
   "cell_type": "code",
   "execution_count": 18,
   "id": "f1f2b900-4823-46dc-9d20-380c1dc94a52",
   "metadata": {},
   "outputs": [],
   "source": []
  }
 ],
 "metadata": {
  "kernelspec": {
   "display_name": "Python 3 (ipykernel)",
   "language": "python",
   "name": "python3"
  },
  "language_info": {
   "codemirror_mode": {
    "name": "ipython",
    "version": 3
   },
   "file_extension": ".py",
   "mimetype": "text/x-python",
   "name": "python",
   "nbconvert_exporter": "python",
   "pygments_lexer": "ipython3",
   "version": "3.10.12"
  }
 },
 "nbformat": 4,
 "nbformat_minor": 5
}
