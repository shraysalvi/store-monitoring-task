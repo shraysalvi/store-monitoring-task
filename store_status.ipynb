{
 "cells": [
  {
   "cell_type": "markdown",
   "id": "0ca0dda3-2137-4228-b439-d37167e6e0ad",
   "metadata": {},
   "source": [
    "## A file that convert business hours data timestamp into unix format"
   ]
  },
  {
   "cell_type": "code",
   "execution_count": 1,
   "id": "ca8c00cf-71e9-47ae-8568-79556ed52207",
   "metadata": {},
   "outputs": [],
   "source": [
    "import pandas as pd\n",
    "from datetime import datetime"
   ]
  },
  {
   "cell_type": "code",
   "execution_count": 2,
   "id": "48d3871e-9544-475c-9134-9d04232295ad",
   "metadata": {},
   "outputs": [],
   "source": [
    "input_filepath = \"storestatus.csv\"\n",
    "output_filepath = 'data/storestatus.csv'"
   ]
  },
  {
   "cell_type": "code",
   "execution_count": 3,
   "id": "1e81e3c7-e9b3-4e11-a7ee-96eac68ac405",
   "metadata": {},
   "outputs": [
    {
     "data": {
      "text/html": [
       "<div>\n",
       "<style scoped>\n",
       "    .dataframe tbody tr th:only-of-type {\n",
       "        vertical-align: middle;\n",
       "    }\n",
       "\n",
       "    .dataframe tbody tr th {\n",
       "        vertical-align: top;\n",
       "    }\n",
       "\n",
       "    .dataframe thead th {\n",
       "        text-align: right;\n",
       "    }\n",
       "</style>\n",
       "<table border=\"1\" class=\"dataframe\">\n",
       "  <thead>\n",
       "    <tr style=\"text-align: right;\">\n",
       "      <th></th>\n",
       "      <th>store_id</th>\n",
       "      <th>status</th>\n",
       "      <th>timestamp_utc</th>\n",
       "    </tr>\n",
       "  </thead>\n",
       "  <tbody>\n",
       "    <tr>\n",
       "      <th>0</th>\n",
       "      <td>8419537941919820732</td>\n",
       "      <td>active</td>\n",
       "      <td>2023-01-22 12:09:39.388884 UTC</td>\n",
       "    </tr>\n",
       "    <tr>\n",
       "      <th>1</th>\n",
       "      <td>54515546588432327</td>\n",
       "      <td>active</td>\n",
       "      <td>2023-01-24 09:06:42.605777 UTC</td>\n",
       "    </tr>\n",
       "    <tr>\n",
       "      <th>2</th>\n",
       "      <td>8377465688456570187</td>\n",
       "      <td>active</td>\n",
       "      <td>2023-01-24 09:07:26.441407 UTC</td>\n",
       "    </tr>\n",
       "    <tr>\n",
       "      <th>3</th>\n",
       "      <td>5955337179846162144</td>\n",
       "      <td>active</td>\n",
       "      <td>2023-01-24 09:08:07.634899 UTC</td>\n",
       "    </tr>\n",
       "    <tr>\n",
       "      <th>4</th>\n",
       "      <td>1169347689335808384</td>\n",
       "      <td>active</td>\n",
       "      <td>2023-01-24 09:08:18.436854 UTC</td>\n",
       "    </tr>\n",
       "  </tbody>\n",
       "</table>\n",
       "</div>"
      ],
      "text/plain": [
       "              store_id  status                   timestamp_utc\n",
       "0  8419537941919820732  active  2023-01-22 12:09:39.388884 UTC\n",
       "1    54515546588432327  active  2023-01-24 09:06:42.605777 UTC\n",
       "2  8377465688456570187  active  2023-01-24 09:07:26.441407 UTC\n",
       "3  5955337179846162144  active  2023-01-24 09:08:07.634899 UTC\n",
       "4  1169347689335808384  active  2023-01-24 09:08:18.436854 UTC"
      ]
     },
     "execution_count": 3,
     "metadata": {},
     "output_type": "execute_result"
    }
   ],
   "source": [
    "file = pd.read_csv(input_filepath)\n",
    "file.head()"
   ]
  },
  {
   "cell_type": "code",
   "execution_count": 4,
   "id": "814f1cf0-af0d-4b58-bfbb-7167f46df76b",
   "metadata": {},
   "outputs": [],
   "source": [
    "# Function to convert the custom timestamp to Unix timestamp\n",
    "def convert_to_unix(timestamp_str):\n",
    "    # List of potential formats\n",
    "    formats = ['%Y-%m-%d %H:%M:%S.%f %Z', '%Y-%m-%d %H:%M:%S %Z']\n",
    "\n",
    "    for fmt in formats:\n",
    "        try:\n",
    "            timestamp_obj = datetime.strptime(timestamp_str, fmt)\n",
    "            return timestamp_obj.timestamp()\n",
    "        except ValueError:\n",
    "            continue\n",
    "\n",
    "    raise ValueError(f\"Time data '{timestamp_str}' does not match known formats.\")"
   ]
  },
  {
   "cell_type": "code",
   "execution_count": 5,
   "id": "c35d31b4-2d54-4b14-b876-3b63dd8b8b4b",
   "metadata": {},
   "outputs": [],
   "source": [
    "result = []\n",
    "start_id = 1\n",
    "\n",
    "for chunk in pd.read_csv(input_filepath, chunksize=50000):\n",
    "    # Convert the 'timestamp_utc' column\n",
    "    chunk['timestamp_utc'] = chunk['timestamp_utc'].apply(convert_to_unix)\n",
    "\n",
    "    # Add the 'id' column with incrementing values\n",
    "    chunk['id'] = range(start_id, start_id + len(chunk))\n",
    "    start_id += len(chunk)\n",
    "\n",
    "    # Reorder columns to place 'id' at the beginning\n",
    "    chunk = chunk[['id'] + [col for col in chunk if col != 'id']]\n",
    "    \n",
    "    result.append(chunk)"
   ]
  },
  {
   "cell_type": "code",
   "execution_count": 6,
   "id": "bddf1b41-3e57-4f4e-9421-f41047e2cb6e",
   "metadata": {},
   "outputs": [
    {
     "data": {
      "text/html": [
       "<div>\n",
       "<style scoped>\n",
       "    .dataframe tbody tr th:only-of-type {\n",
       "        vertical-align: middle;\n",
       "    }\n",
       "\n",
       "    .dataframe tbody tr th {\n",
       "        vertical-align: top;\n",
       "    }\n",
       "\n",
       "    .dataframe thead th {\n",
       "        text-align: right;\n",
       "    }\n",
       "</style>\n",
       "<table border=\"1\" class=\"dataframe\">\n",
       "  <thead>\n",
       "    <tr style=\"text-align: right;\">\n",
       "      <th></th>\n",
       "      <th>id</th>\n",
       "      <th>store_id</th>\n",
       "      <th>status</th>\n",
       "      <th>timestamp_utc</th>\n",
       "    </tr>\n",
       "  </thead>\n",
       "  <tbody>\n",
       "    <tr>\n",
       "      <th>0</th>\n",
       "      <td>1</td>\n",
       "      <td>8419537941919820732</td>\n",
       "      <td>active</td>\n",
       "      <td>1.674370e+09</td>\n",
       "    </tr>\n",
       "    <tr>\n",
       "      <th>1</th>\n",
       "      <td>2</td>\n",
       "      <td>54515546588432327</td>\n",
       "      <td>active</td>\n",
       "      <td>1.674531e+09</td>\n",
       "    </tr>\n",
       "    <tr>\n",
       "      <th>2</th>\n",
       "      <td>3</td>\n",
       "      <td>8377465688456570187</td>\n",
       "      <td>active</td>\n",
       "      <td>1.674531e+09</td>\n",
       "    </tr>\n",
       "    <tr>\n",
       "      <th>3</th>\n",
       "      <td>4</td>\n",
       "      <td>5955337179846162144</td>\n",
       "      <td>active</td>\n",
       "      <td>1.674531e+09</td>\n",
       "    </tr>\n",
       "    <tr>\n",
       "      <th>4</th>\n",
       "      <td>5</td>\n",
       "      <td>1169347689335808384</td>\n",
       "      <td>active</td>\n",
       "      <td>1.674531e+09</td>\n",
       "    </tr>\n",
       "  </tbody>\n",
       "</table>\n",
       "</div>"
      ],
      "text/plain": [
       "   id             store_id  status  timestamp_utc\n",
       "0   1  8419537941919820732  active   1.674370e+09\n",
       "1   2    54515546588432327  active   1.674531e+09\n",
       "2   3  8377465688456570187  active   1.674531e+09\n",
       "3   4  5955337179846162144  active   1.674531e+09\n",
       "4   5  1169347689335808384  active   1.674531e+09"
      ]
     },
     "execution_count": 6,
     "metadata": {},
     "output_type": "execute_result"
    }
   ],
   "source": [
    "df = pd.concat(result, axis=0)\n",
    "df.head()"
   ]
  },
  {
   "cell_type": "code",
   "execution_count": null,
   "id": "7779df7e",
   "metadata": {},
   "outputs": [],
   "source": [
    "df.to_csv(output_filepath, index=False)"
   ]
  }
 ],
 "metadata": {
  "kernelspec": {
   "display_name": "Python 3 (ipykernel)",
   "language": "python",
   "name": "python3"
  },
  "language_info": {
   "codemirror_mode": {
    "name": "ipython",
    "version": 3
   },
   "file_extension": ".py",
   "mimetype": "text/x-python",
   "name": "python",
   "nbconvert_exporter": "python",
   "pygments_lexer": "ipython3",
   "version": "3.10.12"
  }
 },
 "nbformat": 4,
 "nbformat_minor": 5
}
